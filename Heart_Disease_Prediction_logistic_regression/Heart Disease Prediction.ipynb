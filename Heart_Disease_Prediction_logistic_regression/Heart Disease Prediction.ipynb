{
 "cells": [
  {
   "attachments": {},
   "cell_type": "markdown",
   "metadata": {},
   "source": [
    "## **Heart Disease Prediction**"
   ]
  },
  {
   "attachments": {},
   "cell_type": "markdown",
   "metadata": {},
   "source": [
    "### Importing and Transforming Dataset"
   ]
  },
  {
   "cell_type": "code",
   "execution_count": 1,
   "metadata": {},
   "outputs": [],
   "source": [
    "import numpy as np\n",
    "import pandas as pd\n",
    "import matplotlib.pyplot as plt\n",
    "import seaborn as sb\n",
    "import warnings\n",
    "\n",
    "from sklearn.linear_model import LogisticRegressionCV\n",
    "from sklearn.model_selection import train_test_split\n",
    "from sklearn.model_selection import GridSearchCV\n",
    "from sklearn.neighbors import KNeighborsClassifier\n",
    "from sklearn.metrics import classification_report\n",
    "from sklearn.metrics import confusion_matrix\n",
    "from sklearn.metrics import accuracy_score\n",
    "from sklearn.metrics import recall_score\n",
    "from sklearn.metrics import precision_score\n",
    "from sklearn.metrics import roc_curve\n",
    "from sklearn.metrics import roc_auc_score\n",
    "from imblearn.over_sampling import SMOTE\n",
    "from pylab import rcParams"
   ]
  },
  {
   "cell_type": "code",
   "execution_count": 2,
   "metadata": {},
   "outputs": [],
   "source": [
    "%matplotlib inline\n",
    "rcParams['figure.figsize'] = 5,3\n",
    "rcParams[\"legend.fontsize\"] = 8\n",
    "\n",
    "warnings.filterwarnings(\"ignore\")"
   ]
  },
  {
   "attachments": {},
   "cell_type": "markdown",
   "metadata": {},
   "source": [
    "The information used in the dataset was obtained from <a href=\"https://www.kaggle.com/datasets/kamilpytlak/personal-key-indicators-of-heart-disease\">Personal Key Indicators</a> in Kaggle, which contains various risk factors and important markers related to heart disease, such as high BMI (obesity), diabetes, smoking, and alcohol consumption."
   ]
  },
  {
   "cell_type": "code",
   "execution_count": 3,
   "metadata": {},
   "outputs": [
    {
     "data": {
      "text/html": [
       "<div>\n",
       "<style scoped>\n",
       "    .dataframe tbody tr th:only-of-type {\n",
       "        vertical-align: middle;\n",
       "    }\n",
       "\n",
       "    .dataframe tbody tr th {\n",
       "        vertical-align: top;\n",
       "    }\n",
       "\n",
       "    .dataframe thead th {\n",
       "        text-align: right;\n",
       "    }\n",
       "</style>\n",
       "<table border=\"1\" class=\"dataframe\">\n",
       "  <thead>\n",
       "    <tr style=\"text-align: right;\">\n",
       "      <th></th>\n",
       "      <th>HeartDisease</th>\n",
       "      <th>BMI</th>\n",
       "      <th>Smoking</th>\n",
       "      <th>AlcoholDrinking</th>\n",
       "      <th>Stroke</th>\n",
       "      <th>PhysicalHealth</th>\n",
       "      <th>MentalHealth</th>\n",
       "      <th>DiffWalking</th>\n",
       "      <th>Sex</th>\n",
       "      <th>AgeCategory</th>\n",
       "      <th>Race</th>\n",
       "      <th>Diabetic</th>\n",
       "      <th>PhysicalActivity</th>\n",
       "      <th>GenHealth</th>\n",
       "      <th>SleepTime</th>\n",
       "      <th>Asthma</th>\n",
       "      <th>KidneyDisease</th>\n",
       "      <th>SkinCancer</th>\n",
       "    </tr>\n",
       "  </thead>\n",
       "  <tbody>\n",
       "    <tr>\n",
       "      <th>0</th>\n",
       "      <td>No</td>\n",
       "      <td>16.60</td>\n",
       "      <td>Yes</td>\n",
       "      <td>No</td>\n",
       "      <td>No</td>\n",
       "      <td>3.0</td>\n",
       "      <td>30.0</td>\n",
       "      <td>No</td>\n",
       "      <td>Female</td>\n",
       "      <td>55-59</td>\n",
       "      <td>White</td>\n",
       "      <td>Yes</td>\n",
       "      <td>Yes</td>\n",
       "      <td>Very good</td>\n",
       "      <td>5.0</td>\n",
       "      <td>Yes</td>\n",
       "      <td>No</td>\n",
       "      <td>Yes</td>\n",
       "    </tr>\n",
       "    <tr>\n",
       "      <th>1</th>\n",
       "      <td>No</td>\n",
       "      <td>20.34</td>\n",
       "      <td>No</td>\n",
       "      <td>No</td>\n",
       "      <td>Yes</td>\n",
       "      <td>0.0</td>\n",
       "      <td>0.0</td>\n",
       "      <td>No</td>\n",
       "      <td>Female</td>\n",
       "      <td>80 or older</td>\n",
       "      <td>White</td>\n",
       "      <td>No</td>\n",
       "      <td>Yes</td>\n",
       "      <td>Very good</td>\n",
       "      <td>7.0</td>\n",
       "      <td>No</td>\n",
       "      <td>No</td>\n",
       "      <td>No</td>\n",
       "    </tr>\n",
       "    <tr>\n",
       "      <th>2</th>\n",
       "      <td>No</td>\n",
       "      <td>26.58</td>\n",
       "      <td>Yes</td>\n",
       "      <td>No</td>\n",
       "      <td>No</td>\n",
       "      <td>20.0</td>\n",
       "      <td>30.0</td>\n",
       "      <td>No</td>\n",
       "      <td>Male</td>\n",
       "      <td>65-69</td>\n",
       "      <td>White</td>\n",
       "      <td>Yes</td>\n",
       "      <td>Yes</td>\n",
       "      <td>Fair</td>\n",
       "      <td>8.0</td>\n",
       "      <td>Yes</td>\n",
       "      <td>No</td>\n",
       "      <td>No</td>\n",
       "    </tr>\n",
       "    <tr>\n",
       "      <th>3</th>\n",
       "      <td>No</td>\n",
       "      <td>24.21</td>\n",
       "      <td>No</td>\n",
       "      <td>No</td>\n",
       "      <td>No</td>\n",
       "      <td>0.0</td>\n",
       "      <td>0.0</td>\n",
       "      <td>No</td>\n",
       "      <td>Female</td>\n",
       "      <td>75-79</td>\n",
       "      <td>White</td>\n",
       "      <td>No</td>\n",
       "      <td>No</td>\n",
       "      <td>Good</td>\n",
       "      <td>6.0</td>\n",
       "      <td>No</td>\n",
       "      <td>No</td>\n",
       "      <td>Yes</td>\n",
       "    </tr>\n",
       "    <tr>\n",
       "      <th>4</th>\n",
       "      <td>No</td>\n",
       "      <td>23.71</td>\n",
       "      <td>No</td>\n",
       "      <td>No</td>\n",
       "      <td>No</td>\n",
       "      <td>28.0</td>\n",
       "      <td>0.0</td>\n",
       "      <td>Yes</td>\n",
       "      <td>Female</td>\n",
       "      <td>40-44</td>\n",
       "      <td>White</td>\n",
       "      <td>No</td>\n",
       "      <td>Yes</td>\n",
       "      <td>Very good</td>\n",
       "      <td>8.0</td>\n",
       "      <td>No</td>\n",
       "      <td>No</td>\n",
       "      <td>No</td>\n",
       "    </tr>\n",
       "  </tbody>\n",
       "</table>\n",
       "</div>"
      ],
      "text/plain": [
       "  HeartDisease    BMI Smoking AlcoholDrinking Stroke  PhysicalHealth  \\\n",
       "0           No  16.60     Yes              No     No             3.0   \n",
       "1           No  20.34      No              No    Yes             0.0   \n",
       "2           No  26.58     Yes              No     No            20.0   \n",
       "3           No  24.21      No              No     No             0.0   \n",
       "4           No  23.71      No              No     No            28.0   \n",
       "\n",
       "   MentalHealth DiffWalking     Sex  AgeCategory   Race Diabetic  \\\n",
       "0          30.0          No  Female        55-59  White      Yes   \n",
       "1           0.0          No  Female  80 or older  White       No   \n",
       "2          30.0          No    Male        65-69  White      Yes   \n",
       "3           0.0          No  Female        75-79  White       No   \n",
       "4           0.0         Yes  Female        40-44  White       No   \n",
       "\n",
       "  PhysicalActivity  GenHealth  SleepTime Asthma KidneyDisease SkinCancer  \n",
       "0              Yes  Very good        5.0    Yes            No        Yes  \n",
       "1              Yes  Very good        7.0     No            No         No  \n",
       "2              Yes       Fair        8.0    Yes            No         No  \n",
       "3               No       Good        6.0     No            No        Yes  \n",
       "4              Yes  Very good        8.0     No            No         No  "
      ]
     },
     "execution_count": 3,
     "metadata": {},
     "output_type": "execute_result"
    }
   ],
   "source": [
    "heart_disease_df = pd.read_csv('./dataset/Key Indicators of Heart Disease.csv')\n",
    "heart_disease_df.head(5)"
   ]
  },
  {
   "attachments": {},
   "cell_type": "markdown",
   "metadata": {},
   "source": [
    "Before starting the training process for our model, select only the relevant columns to narrow down the data to those that significantly impact the likelihood of heart disease."
   ]
  },
  {
   "cell_type": "code",
   "execution_count": 4,
   "metadata": {},
   "outputs": [
    {
     "name": "stdout",
     "output_type": "stream",
     "text": [
      "<class 'pandas.core.frame.DataFrame'>\n",
      "RangeIndex: 319795 entries, 0 to 319794\n",
      "Data columns (total 11 columns):\n",
      " #   Column            Non-Null Count   Dtype  \n",
      "---  ------            --------------   -----  \n",
      " 0   HeartDisease      319795 non-null  object \n",
      " 1   Sex               319795 non-null  object \n",
      " 2   AgeCategory       319795 non-null  object \n",
      " 3   Race              319795 non-null  object \n",
      " 4   BMI               319795 non-null  float64\n",
      " 5   Smoking           319795 non-null  object \n",
      " 6   AlcoholDrinking   319795 non-null  object \n",
      " 7   Stroke            319795 non-null  object \n",
      " 8   Diabetic          319795 non-null  object \n",
      " 9   PhysicalActivity  319795 non-null  object \n",
      " 10  GenHealth         319795 non-null  object \n",
      "dtypes: float64(1), object(10)\n",
      "memory usage: 26.8+ MB\n"
     ]
    }
   ],
   "source": [
    "heart_disease_df_filtered = heart_disease_df[['HeartDisease', 'Sex', 'AgeCategory', 'Race', 'BMI', 'Smoking', 'AlcoholDrinking', 'Stroke', 'Diabetic', 'PhysicalActivity', 'GenHealth']]\n",
    "heart_disease_df_filtered.info()"
   ]
  },
  {
   "attachments": {},
   "cell_type": "markdown",
   "metadata": {},
   "source": [
    "Check if there are missing values"
   ]
  },
  {
   "cell_type": "code",
   "execution_count": 5,
   "metadata": {},
   "outputs": [
    {
     "data": {
      "text/plain": [
       "HeartDisease        0\n",
       "Sex                 0\n",
       "AgeCategory         0\n",
       "Race                0\n",
       "BMI                 0\n",
       "Smoking             0\n",
       "AlcoholDrinking     0\n",
       "Stroke              0\n",
       "Diabetic            0\n",
       "PhysicalActivity    0\n",
       "GenHealth           0\n",
       "dtype: int64"
      ]
     },
     "execution_count": 5,
     "metadata": {},
     "output_type": "execute_result"
    }
   ],
   "source": [
    "heart_disease_df_filtered.isna().sum()"
   ]
  },
  {
   "attachments": {},
   "cell_type": "markdown",
   "metadata": {},
   "source": [
    "### Checking If Target Variable is Binary\n",
    "\n",
    "The target variable is the `HeartDisease` column, which should have only two distinct values, namely `Yes` and `No`."
   ]
  },
  {
   "cell_type": "code",
   "execution_count": 6,
   "metadata": {},
   "outputs": [
    {
     "data": {
      "text/plain": [
       "<AxesSubplot: xlabel='HeartDisease', ylabel='count'>"
      ]
     },
     "execution_count": 6,
     "metadata": {},
     "output_type": "execute_result"
    },
    {
     "data": {
      "image/png": "[encoded data removed]",
      "text/plain": [
       "<Figure size 500x300 with 1 Axes>"
      ]
     },
     "metadata": {},
     "output_type": "display_data"
    }
   ],
   "source": [
    "sb.countplot(x='HeartDisease', data=heart_disease_df_filtered)"
   ]
  },
  {
   "attachments": {},
   "cell_type": "markdown",
   "metadata": {},
   "source": [
    "The chart reveals that there is an imbalance in the number of records for `HeartDisease`, indicating an uneven distribution of data between individuals who have the ailment and those who do not. This could cause the trained model's predictions for heart disease to be severely biased. To balance the class distribution, we will use SMOTE (Synthetic Minority Oversampling Technique). However, before using SMOTE, all categorical data must be transformed into binary using dummy variables for the method to function effectively.\n",
    "\n",
    "The <b>SMOTE</b> algorithm takes in the closest minority class data entries and creates new combinations based on those entries.<sup>2</sup>\n"
   ]
  },
  {
   "attachments": {},
   "cell_type": "markdown",
   "metadata": {},
   "source": [
    "### Exploratory Analysis on Feature Variables"
   ]
  },
  {
   "attachments": {},
   "cell_type": "markdown",
   "metadata": {},
   "source": [
    "View summary statistics of `BMI`"
   ]
  },
  {
   "cell_type": "code",
   "execution_count": 7,
   "metadata": {},
   "outputs": [
    {
     "data": {
      "text/html": [
       "<div>\n",
       "<style scoped>\n",
       "    .dataframe tbody tr th:only-of-type {\n",
       "        vertical-align: middle;\n",
       "    }\n",
       "\n",
       "    .dataframe tbody tr th {\n",
       "        vertical-align: top;\n",
       "    }\n",
       "\n",
       "    .dataframe thead tr th {\n",
       "        text-align: left;\n",
       "    }\n",
       "\n",
       "    .dataframe thead tr:last-of-type th {\n",
       "        text-align: right;\n",
       "    }\n",
       "</style>\n",
       "<table border=\"1\" class=\"dataframe\">\n",
       "  <thead>\n",
       "    <tr>\n",
       "      <th></th>\n",
       "      <th colspan=\"8\" halign=\"left\">BMI</th>\n",
       "    </tr>\n",
       "    <tr>\n",
       "      <th></th>\n",
       "      <th>count</th>\n",
       "      <th>mean</th>\n",
       "      <th>std</th>\n",
       "      <th>min</th>\n",
       "      <th>25%</th>\n",
       "      <th>50%</th>\n",
       "      <th>75%</th>\n",
       "      <th>max</th>\n",
       "    </tr>\n",
       "    <tr>\n",
       "      <th>HeartDisease</th>\n",
       "      <th></th>\n",
       "      <th></th>\n",
       "      <th></th>\n",
       "      <th></th>\n",
       "      <th></th>\n",
       "      <th></th>\n",
       "      <th></th>\n",
       "      <th></th>\n",
       "    </tr>\n",
       "  </thead>\n",
       "  <tbody>\n",
       "    <tr>\n",
       "      <th>No</th>\n",
       "      <td>292422.0</td>\n",
       "      <td>28.224658</td>\n",
       "      <td>6.325660</td>\n",
       "      <td>12.02</td>\n",
       "      <td>23.89</td>\n",
       "      <td>27.26</td>\n",
       "      <td>31.32</td>\n",
       "      <td>94.85</td>\n",
       "    </tr>\n",
       "    <tr>\n",
       "      <th>Yes</th>\n",
       "      <td>27373.0</td>\n",
       "      <td>29.401592</td>\n",
       "      <td>6.577151</td>\n",
       "      <td>12.21</td>\n",
       "      <td>25.06</td>\n",
       "      <td>28.34</td>\n",
       "      <td>32.69</td>\n",
       "      <td>83.33</td>\n",
       "    </tr>\n",
       "  </tbody>\n",
       "</table>\n",
       "</div>"
      ],
      "text/plain": [
       "                   BMI                                                        \n",
       "                 count       mean       std    min    25%    50%    75%    max\n",
       "HeartDisease                                                                  \n",
       "No            292422.0  28.224658  6.325660  12.02  23.89  27.26  31.32  94.85\n",
       "Yes            27373.0  29.401592  6.577151  12.21  25.06  28.34  32.69  83.33"
      ]
     },
     "execution_count": 7,
     "metadata": {},
     "output_type": "execute_result"
    }
   ],
   "source": [
    "heart_disease_df_filtered.groupby('HeartDisease').describe()"
   ]
  },
  {
   "attachments": {},
   "cell_type": "markdown",
   "metadata": {},
   "source": [
    "Data distribution of cases with Yes/No heart disease according to `Sex`"
   ]
  },
  {
   "cell_type": "code",
   "execution_count": 8,
   "metadata": {},
   "outputs": [
    {
     "data": {
      "text/plain": [
       "<AxesSubplot: xlabel='Sex', ylabel='count'>"
      ]
     },
     "execution_count": 8,
     "metadata": {},
     "output_type": "execute_result"
    },
    {
     "data": {
      "image/png": "[encoded data removed]",
      "text/plain": [
       "<Figure size 500x300 with 1 Axes>"
      ]
     },
     "metadata": {},
     "output_type": "display_data"
    }
   ],
   "source": [
    "sb.countplot(x= heart_disease_df_filtered['Sex'], hue = 'HeartDisease', data = heart_disease_df_filtered)"
   ]
  },
  {
   "attachments": {},
   "cell_type": "markdown",
   "metadata": {},
   "source": [
    "Data distribution of cases with Yes/No heart disease according to `AgeCategory`"
   ]
  },
  {
   "cell_type": "code",
   "execution_count": 9,
   "metadata": {},
   "outputs": [
    {
     "data": {
      "text/plain": [
       "<AxesSubplot: xlabel='AgeCategory', ylabel='count'>"
      ]
     },
     "execution_count": 9,
     "metadata": {},
     "output_type": "execute_result"
    },
    {
     "data": {
      "image/png": "[encoded data removed]",
      "text/plain": [
       "<Figure size 1200x300 with 1 Axes>"
      ]
     },
     "metadata": {},
     "output_type": "display_data"
    }
   ],
   "source": [
    "plt.figure(figsize = (12,3))\n",
    "sb.countplot(x= heart_disease_df_filtered['AgeCategory'].sort_values(ascending=True), hue = 'HeartDisease', data = heart_disease_df_filtered)"
   ]
  },
  {
   "attachments": {},
   "cell_type": "markdown",
   "metadata": {},
   "source": [
    "Data distribution of cases with Yes/No heart disease according to `Race`"
   ]
  },
  {
   "cell_type": "code",
   "execution_count": 10,
   "metadata": {},
   "outputs": [
    {
     "data": {
      "text/plain": [
       "<AxesSubplot: xlabel='Race', ylabel='count'>"
      ]
     },
     "execution_count": 10,
     "metadata": {},
     "output_type": "execute_result"
    },
    {
     "data": {
      "image/png": "[encoded data removed]",
      "text/plain": [
       "<Figure size 1200x300 with 1 Axes>"
      ]
     },
     "metadata": {},
     "output_type": "display_data"
    }
   ],
   "source": [
    "plt.figure(figsize = (12,3))\n",
    "sb.countplot(x= heart_disease_df_filtered['Race'].sort_values(ascending=True), hue = 'HeartDisease', data = heart_disease_df_filtered)"
   ]
  },
  {
   "attachments": {},
   "cell_type": "markdown",
   "metadata": {},
   "source": [
    "Data distribution of cases with Yes/No heart disease according to `Smoking`"
   ]
  },
  {
   "cell_type": "code",
   "execution_count": 11,
   "metadata": {},
   "outputs": [
    {
     "data": {
      "text/plain": [
       "<AxesSubplot: xlabel='Smoking', ylabel='count'>"
      ]
     },
     "execution_count": 11,
     "metadata": {},
     "output_type": "execute_result"
    },
    {
     "data": {
      "image/png": "[encoded data removed]",
      "text/plain": [
       "<Figure size 500x300 with 1 Axes>"
      ]
     },
     "metadata": {},
     "output_type": "display_data"
    }
   ],
   "source": [
    "sb.countplot(x= heart_disease_df_filtered['Smoking'], hue = 'HeartDisease', data = heart_disease_df_filtered)"
   ]
  },
  {
   "attachments": {},
   "cell_type": "markdown",
   "metadata": {},
   "source": [
    "Data distribution of cases with Yes/No heart disease according to `AlcoholDrinking`"
   ]
  },
  {
   "cell_type": "code",
   "execution_count": 12,
   "metadata": {},
   "outputs": [
    {
     "data": {
      "text/plain": [
       "<AxesSubplot: xlabel='AlcoholDrinking', ylabel='count'>"
      ]
     },
     "execution_count": 12,
     "metadata": {},
     "output_type": "execute_result"
    },
    {
     "data": {
      "image/png": "[encoded data removed]",
      "text/plain": [
       "<Figure size 500x300 with 1 Axes>"
      ]
     },
     "metadata": {},
     "output_type": "display_data"
    }
   ],
   "source": [
    "sb.countplot(x= heart_disease_df_filtered['AlcoholDrinking'], hue = 'HeartDisease', data = heart_disease_df_filtered)"
   ]
  },
  {
   "attachments": {},
   "cell_type": "markdown",
   "metadata": {},
   "source": [
    "Data distribution of cases with Yes/No heart disease according to `Stroke`"
   ]
  },
  {
   "cell_type": "code",
   "execution_count": 13,
   "metadata": {},
   "outputs": [
    {
     "data": {
      "text/plain": [
       "<AxesSubplot: xlabel='Stroke', ylabel='count'>"
      ]
     },
     "execution_count": 13,
     "metadata": {},
     "output_type": "execute_result"
    },
    {
     "data": {
      "image/png": "[encoded data removed]",
      "text/plain": [
       "<Figure size 500x300 with 1 Axes>"
      ]
     },
     "metadata": {},
     "output_type": "display_data"
    }
   ],
   "source": [
    "sb.countplot(x= heart_disease_df_filtered['Stroke'], hue = 'HeartDisease', data = heart_disease_df_filtered)"
   ]
  },
  {
   "attachments": {},
   "cell_type": "markdown",
   "metadata": {},
   "source": [
    "Data distribution of cases with Yes/No heart disease according to `Diabetic`"
   ]
  },
  {
   "cell_type": "code",
   "execution_count": 14,
   "metadata": {},
   "outputs": [
    {
     "data": {
      "text/plain": [
       "<AxesSubplot: xlabel='Diabetic', ylabel='count'>"
      ]
     },
     "execution_count": 14,
     "metadata": {},
     "output_type": "execute_result"
    },
    {
     "data": {
      "image/png": "[encoded data removed]",
      "text/plain": [
       "<Figure size 1000x300 with 1 Axes>"
      ]
     },
     "metadata": {},
     "output_type": "display_data"
    }
   ],
   "source": [
    "plt.figure(figsize = (10,3))\n",
    "sb.countplot(x= heart_disease_df_filtered['Diabetic'], hue = 'HeartDisease', data = heart_disease_df_filtered)"
   ]
  },
  {
   "attachments": {},
   "cell_type": "markdown",
   "metadata": {},
   "source": [
    "Data distribution of cases with Yes/No heart disease according to `PhysicalActivity`"
   ]
  },
  {
   "cell_type": "code",
   "execution_count": 15,
   "metadata": {},
   "outputs": [
    {
     "data": {
      "text/plain": [
       "<AxesSubplot: xlabel='PhysicalActivity', ylabel='count'>"
      ]
     },
     "execution_count": 15,
     "metadata": {},
     "output_type": "execute_result"
    },
    {
     "data": {
      "image/png": "[encoded data removed]",
      "text/plain": [
       "<Figure size 500x300 with 1 Axes>"
      ]
     },
     "metadata": {},
     "output_type": "display_data"
    }
   ],
   "source": [
    "sb.countplot(x= heart_disease_df_filtered['PhysicalActivity'], hue = 'HeartDisease', data = heart_disease_df_filtered)"
   ]
  },
  {
   "attachments": {},
   "cell_type": "markdown",
   "metadata": {},
   "source": [
    "Data distribution of cases with Yes/No heart disease according to `GenHealth`"
   ]
  },
  {
   "cell_type": "code",
   "execution_count": 16,
   "metadata": {},
   "outputs": [
    {
     "data": {
      "text/plain": [
       "<AxesSubplot: xlabel='GenHealth', ylabel='count'>"
      ]
     },
     "execution_count": 16,
     "metadata": {},
     "output_type": "execute_result"
    },
    {
     "data": {
      "image/png": "[encoded data removed]",
      "text/plain": [
       "<Figure size 500x300 with 1 Axes>"
      ]
     },
     "metadata": {},
     "output_type": "display_data"
    }
   ],
   "source": [
    "sb.countplot(x= heart_disease_df_filtered['GenHealth'].sort_values(ascending=True), hue = 'HeartDisease', data = heart_disease_df_filtered)"
   ]
  },
  {
   "attachments": {},
   "cell_type": "markdown",
   "metadata": {},
   "source": [
    "__Observations:__\n",
    "- The frequency of heart disease cases is directly proportional with the age of the individuals, which is expected.\n",
    "- Heart disease appears to be more prevalent among individuals who identify as White, indicating the need for more diversity in the racial makeup of the sample group.\n",
    "- Insufficient data is available to confirm Alcohol Drinking as a significant indicator of heart disease. \n"
   ]
  },
  {
   "attachments": {},
   "cell_type": "markdown",
   "metadata": {},
   "source": [
    "### Converting Categorical Features to Dummy Indicators\n",
    "\n",
    "Get all categorical features"
   ]
  },
  {
   "cell_type": "code",
   "execution_count": 17,
   "metadata": {},
   "outputs": [
    {
     "name": "stdout",
     "output_type": "stream",
     "text": [
      "There are 10 categorical features:\n",
      "\n",
      "HeartDisease, Sex, AgeCategory, Race, Smoking, AlcoholDrinking, Stroke, Diabetic, PhysicalActivity, GenHealth\n"
     ]
    }
   ],
   "source": [
    "categorical_columns = [name for name in heart_disease_df_filtered.columns if heart_disease_df_filtered[name].dtype=='O']\n",
    "\n",
    "print(f'There are {len(categorical_columns)} categorical features:\\n')\n",
    "print(\", \".join(categorical_columns))"
   ]
  },
  {
   "attachments": {},
   "cell_type": "markdown",
   "metadata": {},
   "source": [
    "Transform all categorical attributes into binary dummy variables where the value is 0 (representing No) or 1 (representing Yes)."
   ]
  },
  {
   "cell_type": "code",
   "execution_count": 18,
   "metadata": {},
   "outputs": [
    {
     "data": {
      "text/html": [
       "<div>\n",
       "<style scoped>\n",
       "    .dataframe tbody tr th:only-of-type {\n",
       "        vertical-align: middle;\n",
       "    }\n",
       "\n",
       "    .dataframe tbody tr th {\n",
       "        vertical-align: top;\n",
       "    }\n",
       "\n",
       "    .dataframe thead th {\n",
       "        text-align: right;\n",
       "    }\n",
       "</style>\n",
       "<table border=\"1\" class=\"dataframe\">\n",
       "  <thead>\n",
       "    <tr style=\"text-align: right;\">\n",
       "      <th></th>\n",
       "      <th>BMI</th>\n",
       "      <th>HeartDisease_Yes</th>\n",
       "      <th>Sex_Male</th>\n",
       "      <th>Smoking_Yes</th>\n",
       "      <th>AlcoholDrinking_Yes</th>\n",
       "      <th>Stroke_Yes</th>\n",
       "      <th>Diabetic_No, borderline diabetes</th>\n",
       "      <th>Diabetic_Yes</th>\n",
       "      <th>Diabetic_Yes (during pregnancy)</th>\n",
       "      <th>PhysicalActivity_Yes</th>\n",
       "      <th>...</th>\n",
       "      <th>Race_Asian</th>\n",
       "      <th>Race_Black</th>\n",
       "      <th>Race_Hispanic</th>\n",
       "      <th>Race_Other</th>\n",
       "      <th>Race_White</th>\n",
       "      <th>GenHealth_Excellent</th>\n",
       "      <th>GenHealth_Fair</th>\n",
       "      <th>GenHealth_Good</th>\n",
       "      <th>GenHealth_Poor</th>\n",
       "      <th>GenHealth_Very good</th>\n",
       "    </tr>\n",
       "  </thead>\n",
       "  <tbody>\n",
       "    <tr>\n",
       "      <th>0</th>\n",
       "      <td>16.60</td>\n",
       "      <td>0</td>\n",
       "      <td>0</td>\n",
       "      <td>1</td>\n",
       "      <td>0</td>\n",
       "      <td>0</td>\n",
       "      <td>0</td>\n",
       "      <td>1</td>\n",
       "      <td>0</td>\n",
       "      <td>1</td>\n",
       "      <td>...</td>\n",
       "      <td>0</td>\n",
       "      <td>0</td>\n",
       "      <td>0</td>\n",
       "      <td>0</td>\n",
       "      <td>1</td>\n",
       "      <td>0</td>\n",
       "      <td>0</td>\n",
       "      <td>0</td>\n",
       "      <td>0</td>\n",
       "      <td>1</td>\n",
       "    </tr>\n",
       "    <tr>\n",
       "      <th>1</th>\n",
       "      <td>20.34</td>\n",
       "      <td>0</td>\n",
       "      <td>0</td>\n",
       "      <td>0</td>\n",
       "      <td>0</td>\n",
       "      <td>1</td>\n",
       "      <td>0</td>\n",
       "      <td>0</td>\n",
       "      <td>0</td>\n",
       "      <td>1</td>\n",
       "      <td>...</td>\n",
       "      <td>0</td>\n",
       "      <td>0</td>\n",
       "      <td>0</td>\n",
       "      <td>0</td>\n",
       "      <td>1</td>\n",
       "      <td>0</td>\n",
       "      <td>0</td>\n",
       "      <td>0</td>\n",
       "      <td>0</td>\n",
       "      <td>1</td>\n",
       "    </tr>\n",
       "    <tr>\n",
       "      <th>2</th>\n",
       "      <td>26.58</td>\n",
       "      <td>0</td>\n",
       "      <td>1</td>\n",
       "      <td>1</td>\n",
       "      <td>0</td>\n",
       "      <td>0</td>\n",
       "      <td>0</td>\n",
       "      <td>1</td>\n",
       "      <td>0</td>\n",
       "      <td>1</td>\n",
       "      <td>...</td>\n",
       "      <td>0</td>\n",
       "      <td>0</td>\n",
       "      <td>0</td>\n",
       "      <td>0</td>\n",
       "      <td>1</td>\n",
       "      <td>0</td>\n",
       "      <td>1</td>\n",
       "      <td>0</td>\n",
       "      <td>0</td>\n",
       "      <td>0</td>\n",
       "    </tr>\n",
       "    <tr>\n",
       "      <th>3</th>\n",
       "      <td>24.21</td>\n",
       "      <td>0</td>\n",
       "      <td>0</td>\n",
       "      <td>0</td>\n",
       "      <td>0</td>\n",
       "      <td>0</td>\n",
       "      <td>0</td>\n",
       "      <td>0</td>\n",
       "      <td>0</td>\n",
       "      <td>0</td>\n",
       "      <td>...</td>\n",
       "      <td>0</td>\n",
       "      <td>0</td>\n",
       "      <td>0</td>\n",
       "      <td>0</td>\n",
       "      <td>1</td>\n",
       "      <td>0</td>\n",
       "      <td>0</td>\n",
       "      <td>1</td>\n",
       "      <td>0</td>\n",
       "      <td>0</td>\n",
       "    </tr>\n",
       "    <tr>\n",
       "      <th>4</th>\n",
       "      <td>23.71</td>\n",
       "      <td>0</td>\n",
       "      <td>0</td>\n",
       "      <td>0</td>\n",
       "      <td>0</td>\n",
       "      <td>0</td>\n",
       "      <td>0</td>\n",
       "      <td>0</td>\n",
       "      <td>0</td>\n",
       "      <td>1</td>\n",
       "      <td>...</td>\n",
       "      <td>0</td>\n",
       "      <td>0</td>\n",
       "      <td>0</td>\n",
       "      <td>0</td>\n",
       "      <td>1</td>\n",
       "      <td>0</td>\n",
       "      <td>0</td>\n",
       "      <td>0</td>\n",
       "      <td>0</td>\n",
       "      <td>1</td>\n",
       "    </tr>\n",
       "  </tbody>\n",
       "</table>\n",
       "<p>5 rows × 34 columns</p>\n",
       "</div>"
      ],
      "text/plain": [
       "     BMI  HeartDisease_Yes  Sex_Male  Smoking_Yes  AlcoholDrinking_Yes  \\\n",
       "0  16.60                 0         0            1                    0   \n",
       "1  20.34                 0         0            0                    0   \n",
       "2  26.58                 0         1            1                    0   \n",
       "3  24.21                 0         0            0                    0   \n",
       "4  23.71                 0         0            0                    0   \n",
       "\n",
       "   Stroke_Yes  Diabetic_No, borderline diabetes  Diabetic_Yes  \\\n",
       "0           0                                 0             1   \n",
       "1           1                                 0             0   \n",
       "2           0                                 0             1   \n",
       "3           0                                 0             0   \n",
       "4           0                                 0             0   \n",
       "\n",
       "   Diabetic_Yes (during pregnancy)  PhysicalActivity_Yes  ...  Race_Asian  \\\n",
       "0                                0                     1  ...           0   \n",
       "1                                0                     1  ...           0   \n",
       "2                                0                     1  ...           0   \n",
       "3                                0                     0  ...           0   \n",
       "4                                0                     1  ...           0   \n",
       "\n",
       "   Race_Black  Race_Hispanic  Race_Other  Race_White  GenHealth_Excellent  \\\n",
       "0           0              0           0           1                    0   \n",
       "1           0              0           0           1                    0   \n",
       "2           0              0           0           1                    0   \n",
       "3           0              0           0           1                    0   \n",
       "4           0              0           0           1                    0   \n",
       "\n",
       "   GenHealth_Fair  GenHealth_Good  GenHealth_Poor  GenHealth_Very good  \n",
       "0               0               0               0                    1  \n",
       "1               0               0               0                    1  \n",
       "2               1               0               0                    0  \n",
       "3               0               1               0                    0  \n",
       "4               0               0               0                    1  \n",
       "\n",
       "[5 rows x 34 columns]"
      ]
     },
     "execution_count": 18,
     "metadata": {},
     "output_type": "execute_result"
    }
   ],
   "source": [
    "categorical_drop_first = [name for name in categorical_columns if name not in ['AgeCategory', 'Race', 'GenHealth']]\n",
    "categorical_no_drop = [name for name in categorical_columns if name in ['AgeCategory', 'Race', 'GenHealth']]\n",
    "\n",
    "heart_disease_df_dummy = pd.get_dummies(data=heart_disease_df_filtered, columns=categorical_drop_first, drop_first=True)\n",
    "heart_disease_df_dummy = pd.get_dummies(data=heart_disease_df_dummy, columns=categorical_no_drop)\n",
    "heart_disease_df_dummy.head(5)"
   ]
  },
  {
   "attachments": {},
   "cell_type": "markdown",
   "metadata": {},
   "source": [
    "After the conversion, the target features have expanded from the original 11 columns to a total of 34 columns."
   ]
  },
  {
   "cell_type": "code",
   "execution_count": 19,
   "metadata": {},
   "outputs": [
    {
     "name": "stdout",
     "output_type": "stream",
     "text": [
      "<class 'pandas.core.frame.DataFrame'>\n",
      "RangeIndex: 319795 entries, 0 to 319794\n",
      "Data columns (total 34 columns):\n",
      " #   Column                               Non-Null Count   Dtype  \n",
      "---  ------                               --------------   -----  \n",
      " 0   BMI                                  319795 non-null  float64\n",
      " 1   HeartDisease_Yes                     319795 non-null  uint8  \n",
      " 2   Sex_Male                             319795 non-null  uint8  \n",
      " 3   Smoking_Yes                          319795 non-null  uint8  \n",
      " 4   AlcoholDrinking_Yes                  319795 non-null  uint8  \n",
      " 5   Stroke_Yes                           319795 non-null  uint8  \n",
      " 6   Diabetic_No, borderline diabetes     319795 non-null  uint8  \n",
      " 7   Diabetic_Yes                         319795 non-null  uint8  \n",
      " 8   Diabetic_Yes (during pregnancy)      319795 non-null  uint8  \n",
      " 9   PhysicalActivity_Yes                 319795 non-null  uint8  \n",
      " 10  AgeCategory_18-24                    319795 non-null  uint8  \n",
      " 11  AgeCategory_25-29                    319795 non-null  uint8  \n",
      " 12  AgeCategory_30-34                    319795 non-null  uint8  \n",
      " 13  AgeCategory_35-39                    319795 non-null  uint8  \n",
      " 14  AgeCategory_40-44                    319795 non-null  uint8  \n",
      " 15  AgeCategory_45-49                    319795 non-null  uint8  \n",
      " 16  AgeCategory_50-54                    319795 non-null  uint8  \n",
      " 17  AgeCategory_55-59                    319795 non-null  uint8  \n",
      " 18  AgeCategory_60-64                    319795 non-null  uint8  \n",
      " 19  AgeCategory_65-69                    319795 non-null  uint8  \n",
      " 20  AgeCategory_70-74                    319795 non-null  uint8  \n",
      " 21  AgeCategory_75-79                    319795 non-null  uint8  \n",
      " 22  AgeCategory_80 or older              319795 non-null  uint8  \n",
      " 23  Race_American Indian/Alaskan Native  319795 non-null  uint8  \n",
      " 24  Race_Asian                           319795 non-null  uint8  \n",
      " 25  Race_Black                           319795 non-null  uint8  \n",
      " 26  Race_Hispanic                        319795 non-null  uint8  \n",
      " 27  Race_Other                           319795 non-null  uint8  \n",
      " 28  Race_White                           319795 non-null  uint8  \n",
      " 29  GenHealth_Excellent                  319795 non-null  uint8  \n",
      " 30  GenHealth_Fair                       319795 non-null  uint8  \n",
      " 31  GenHealth_Good                       319795 non-null  uint8  \n",
      " 32  GenHealth_Poor                       319795 non-null  uint8  \n",
      " 33  GenHealth_Very good                  319795 non-null  uint8  \n",
      "dtypes: float64(1), uint8(33)\n",
      "memory usage: 12.5 MB\n"
     ]
    }
   ],
   "source": [
    "heart_disease_df_dummy.info()"
   ]
  },
  {
   "attachments": {},
   "cell_type": "markdown",
   "metadata": {},
   "source": [
    "### Finding Optimal Value for k-Nearest Neighbors\n",
    "\n",
    "Determine the optimal k value to be utilized for SMOTE's k-nearest neighbors during the creation of synthetic samples."
   ]
  },
  {
   "cell_type": "code",
   "execution_count": 20,
   "metadata": {},
   "outputs": [
    {
     "name": "stdout",
     "output_type": "stream",
     "text": [
      "Best parameter: {'n_neighbors': 55}\n",
      "Best score: 0.92\n"
     ]
    }
   ],
   "source": [
    "X_features = heart_disease_df_dummy.drop(['HeartDisease_Yes'], axis=1)\n",
    "y_target = heart_disease_df_dummy['HeartDisease_Yes']\n",
    "\n",
    "param_grid = {'n_neighbors': [55, 60]}\n",
    "\n",
    "# Create a k-nearest neighbors classifier\n",
    "knn = KNeighborsClassifier()\n",
    "\n",
    "# Use grid search to find the optimal value of k\n",
    "grid_search = GridSearchCV(knn, param_grid, cv=5)\n",
    "grid_search.fit(X_features, y_target)\n",
    "\n",
    "# Print the best parameter and score\n",
    "print(f\"Best parameter: {grid_search.best_params_}\")\n",
    "print(f\"Best score: {round(grid_search.best_score_, 2)}\")"
   ]
  },
  {
   "attachments": {},
   "cell_type": "markdown",
   "metadata": {},
   "source": [
    "### Creating Synthetic Data using SMOTE\n",
    "\n",
    "Synthetic data will be generated using SMOTE, as previously stated, to achieve a balanced distribution of data across all classes. The value of `k_neighbors` to be used will be 55, which provided the highest score during the hyperparameter tuning process for k-nearest neighbors."
   ]
  },
  {
   "cell_type": "code",
   "execution_count": 40,
   "metadata": {},
   "outputs": [
    {
     "name": "stdout",
     "output_type": "stream",
     "text": [
      "SMOTE(k_neighbors=55, random_state=0)\n"
     ]
    }
   ],
   "source": [
    "oversample = SMOTE(k_neighbors=55, random_state=0)\n",
    "print(f\"{oversample}\")"
   ]
  },
  {
   "attachments": {},
   "cell_type": "markdown",
   "metadata": {},
   "source": [
    "The original count of 27,373 records for the 'with Heart Disease' class has now been balanced with the 'without Heart Disease' class, resulting in a total of 292,422 records for both classes"
   ]
  },
  {
   "cell_type": "code",
   "execution_count": 42,
   "metadata": {},
   "outputs": [
    {
     "name": "stdout",
     "output_type": "stream",
     "text": [
      "No. of records before using SMOTE\n",
      "0    292422\n",
      "1     27373\n",
      "Name: HeartDisease_Yes, dtype: int64\n",
      "\n",
      "No. of records after using SMOTE\n",
      "0    292422\n",
      "1    292422\n",
      "Name: HeartDisease_Yes, dtype: int64\n"
     ]
    }
   ],
   "source": [
    "X_features_smoted, y_target_smoted = oversample.fit_resample(X_features, y_target)\n",
    "y_target_smoted = pd.Series(y_target_smoted)\n",
    "\n",
    "print(f'No. of records before using SMOTE\\n{y_target.value_counts()}\\n')\n",
    "print(f'No. of records after using SMOTE\\n{y_target_smoted.value_counts()}')"
   ]
  },
  {
   "attachments": {},
   "cell_type": "markdown",
   "metadata": {},
   "source": [
    "### Splitting Data into Training and Test Set"
   ]
  },
  {
   "cell_type": "code",
   "execution_count": 23,
   "metadata": {},
   "outputs": [
    {
     "name": "stdout",
     "output_type": "stream",
     "text": [
      "No. of train datasets: x=(409390, 33) y=(409390,)\n",
      "No. of test datasets: x=(175454, 33) y=(175454,)\n",
      "\n"
     ]
    }
   ],
   "source": [
    "X_train, X_test, y_train, y_test = train_test_split(X_features_smoted, y_target_smoted, test_size=0.3, random_state=0)\n",
    "\n",
    "print(f\"No. of train datasets: x={X_train.shape} y={y_train.shape}\")\n",
    "print(f\"No. of test datasets: x={X_test.shape} y={y_test.shape}\\n\")"
   ]
  },
  {
   "attachments": {},
   "cell_type": "markdown",
   "metadata": {},
   "source": [
    "### Creating a Model\n",
    "\n",
    "The dataset is divided into two parts, with 80% allocated for training a predictive model of Heart Disease. The model is built using logistic regression with built-in cross-validation."
   ]
  },
  {
   "cell_type": "code",
   "execution_count": 24,
   "metadata": {},
   "outputs": [
    {
     "name": "stdout",
     "output_type": "stream",
     "text": [
      "Model type: LogisticRegressionCV()\n"
     ]
    }
   ],
   "source": [
    "model = LogisticRegressionCV(solver='lbfgs')\n",
    "model.fit(X_train, y_train)\n",
    "print(f\"Model type: {model}\")"
   ]
  },
  {
   "attachments": {},
   "cell_type": "markdown",
   "metadata": {},
   "source": [
    "### Checking for Overfitting and Underfitting\n",
    "\n",
    "The accuracy score for the training set is 0.8341 and for the test set it is 0.8325, which are very similar. Therefore, there is no evidence of overfitting."
   ]
  },
  {
   "cell_type": "code",
   "execution_count": 25,
   "metadata": {},
   "outputs": [
    {
     "name": "stdout",
     "output_type": "stream",
     "text": [
      "Training Accuracy: 0.8341\n",
      "Testing Accuracy: 0.8325\n"
     ]
    }
   ],
   "source": [
    "# Evaluate model on training dataset\n",
    "train_accuracy = accuracy_score(y_train, model.predict(X_train))\n",
    "print(\"Training Accuracy:\", round(train_accuracy, 4))\n",
    "\n",
    "# Evaluate model on testing dataset\n",
    "test_accuracy = accuracy_score(y_test, model.predict(X_test))\n",
    "print(\"Testing Accuracy:\", round(test_accuracy, 4))"
   ]
  },
  {
   "attachments": {},
   "cell_type": "markdown",
   "metadata": {},
   "source": [
    "### Evaluating the Model\n",
    "\n",
    "We will use classification report and confusion matrix to view the summary of prediction results and to give us a clear picture of classification model performance."
   ]
  },
  {
   "cell_type": "code",
   "execution_count": 43,
   "metadata": {},
   "outputs": [
    {
     "name": "stdout",
     "output_type": "stream",
     "text": [
      "Classification Report of Test Dataset\n",
      "\n",
      "              precision    recall  f1-score   support\n",
      "\n",
      "           0       0.84      0.81      0.83     87481\n",
      "           1       0.82      0.85      0.84     87973\n",
      "\n",
      "    accuracy                           0.83    175454\n",
      "   macro avg       0.83      0.83      0.83    175454\n",
      "weighted avg       0.83      0.83      0.83    175454\n",
      "\n"
     ]
    },
    {
     "data": {
      "text/plain": [
       "Text(0.5, 1.0, 'Confusion Matrix')"
      ]
     },
     "execution_count": 43,
     "metadata": {},
     "output_type": "execute_result"
    },
    {
     "data": {
      "image/png": "[encoded data removed]",
      "text/plain": [
       "<Figure size 500x300 with 2 Axes>"
      ]
     },
     "metadata": {},
     "output_type": "display_data"
    }
   ],
   "source": [
    "y_pred_test = model.predict(X_test)\n",
    "\n",
    "print(\"Classification Report of Test Dataset\\n\")\n",
    "print(classification_report(y_test, y_pred_test))\n",
    "\n",
    "cm = confusion_matrix(y_test, y_pred_test)\n",
    "TN, FP, FN, TP = cm.ravel()\n",
    "\n",
    "cm_matrix = pd.DataFrame(data=cm, columns=['Actual Positive:1', 'Actual Negative:0'], index=['Predict Positive:1', 'Predict Negative:0'])\n",
    "sb.heatmap(cm_matrix, annot=True, fmt='d')\n",
    "plt.title('Confusion Matrix', fontsize=14, fontweight='bold')"
   ]
  },
  {
   "attachments": {},
   "cell_type": "markdown",
   "metadata": {},
   "source": [
    "The created model has an <b>accuracy score of 0.83</b>, indicating the number of accurate predictions relative to the total number of predictions."
   ]
  },
  {
   "cell_type": "code",
   "execution_count": 27,
   "metadata": {},
   "outputs": [
    {
     "name": "stdout",
     "output_type": "stream",
     "text": [
      "Accuracy score: 0.83\n"
     ]
    }
   ],
   "source": [
    "accuracy_score_s = (TP + TN) / float(TP + TN + FP + FN)   # OR accuracy_score(y_test_smore, y_pred_test)\n",
    "print(f'Accuracy score: {round(accuracy_score_s, 2)}')"
   ]
  },
  {
   "attachments": {},
   "cell_type": "markdown",
   "metadata": {},
   "source": [
    "It has a <b>precision score of 0.82</b>, representing the number of positive predictions that are accurate compared to the total number of predicted positives."
   ]
  },
  {
   "cell_type": "code",
   "execution_count": 28,
   "metadata": {},
   "outputs": [
    {
     "name": "stdout",
     "output_type": "stream",
     "text": [
      "Precision score: 0.82\n"
     ]
    }
   ],
   "source": [
    "precision_score_s = TP / float(TP + FP)   # OR precision_score(y_test_smore, y_pred_test)\n",
    "print(f'Precision score: {round(precision_score_s, 2)}')"
   ]
  },
  {
   "attachments": {},
   "cell_type": "markdown",
   "metadata": {},
   "source": [
    "Its <b>recall score is 0.85</b>, indicating the proportion of actual positive cases that are correctly identified by the model out of all positive cases of heart disease."
   ]
  },
  {
   "cell_type": "code",
   "execution_count": 29,
   "metadata": {},
   "outputs": [
    {
     "name": "stdout",
     "output_type": "stream",
     "text": [
      "Recall score: 0.85\n"
     ]
    }
   ],
   "source": [
    "recall_score_s = TP / float(TP + FN)  # OR recall_score(y_test_smore, y_pred_test)\n",
    "print(f'Recall score: {round(recall_score_s, 2)}')"
   ]
  },
  {
   "attachments": {},
   "cell_type": "markdown",
   "metadata": {},
   "source": [
    "The ROC (Receiver Operating Characteristics) curve shown below is well-balanced, with an AUC (Area Under the Curve) score of 0.92, indicating a good level of distinction between the model's ability to predict true positive and false positive cases of heart disease. A curve that is situated more towards the top-left corner shows a larger area under it, resulting in a higher ROC AUC score. A perfect classifier would have an AUC of 1."
   ]
  },
  {
   "cell_type": "code",
   "execution_count": 30,
   "metadata": {},
   "outputs": [
    {
     "data": {
      "image/png": "[encoded data removed]",
      "text/plain": [
       "<Figure size 500x300 with 1 Axes>"
      ]
     },
     "metadata": {},
     "output_type": "display_data"
    }
   ],
   "source": [
    "y_prob_test = model.predict_proba(X_test)[:,1]\n",
    "fpr, tpr, thresholds = roc_curve(y_test, y_prob_test)\n",
    "\n",
    "auc = round(roc_auc_score(y_test, y_prob_test), 2)\n",
    "\n",
    "plt.plot(fpr, tpr, linewidth=2, label=\"ROC curve (auc=\" + str(auc) + \")\")\n",
    "plt.plot([0,1], [0,1], 'k--' )\n",
    "plt.title('ROC curve for Predicting Heart Disease', fontsize=14, fontweight='bold')\n",
    "plt.xlabel('False Positive Rate')\n",
    "plt.ylabel('True Positive Rate')\n",
    "plt.legend(loc='lower right')\n",
    "plt.show()"
   ]
  },
  {
   "attachments": {},
   "cell_type": "markdown",
   "metadata": {},
   "source": [
    "Based from the results of evaluation metrics mentioned above, we can conclude that the model performs well in predicting heart disease."
   ]
  },
  {
   "attachments": {},
   "cell_type": "markdown",
   "metadata": {},
   "source": [
    "### Making Test Prediction\n",
    "\n",
    "We will evaluate our model by utilizing it to estimate the likelihood of a patient developing heart disease based on the patient's record provided below."
   ]
  },
  {
   "cell_type": "code",
   "execution_count": 45,
   "metadata": {},
   "outputs": [],
   "source": [
    "from enum import Enum\n",
    "\n",
    "class Feature(Enum):\n",
    "\n",
    "    BMI = 0\n",
    "    Sex = 1\n",
    "    Smoking = 2\n",
    "    AlcoholDrinking = 3\n",
    "    Stroke = 4\n",
    "    DiabeticBorderline = 5\n",
    "    Diabetic = 6\n",
    "    DiabeticPregnancy= 7\n",
    "    PhysicalActivity = 8\n",
    "    AgeCategory_18_24 = 9  \n",
    "    AgeCategory_25_29 = 10\n",
    "    AgeCategory_30_34 = 11\n",
    "    AgeCategory_35_39 = 12\n",
    "    AgeCategory_40_44 = 13\n",
    "    AgeCategory_45_49 = 14\n",
    "    AgeCategory_50_54 = 15\n",
    "    AgeCategory_55_59 = 16\n",
    "    AgeCategory_60_64 = 17\n",
    "    AgeCategory_65_69 = 18\n",
    "    AgeCategory_70_74 = 19\n",
    "    AgeCategory_75_79 = 20\n",
    "    AgeCategory_80_older = 21\n",
    "    Race_American_Indian = 22\n",
    "    Race_Asian = 23\n",
    "    Race_Black = 24\n",
    "    Race_Hispanic = 25\n",
    "    Race_Other = 26\n",
    "    Race_White = 27\n",
    "    GenHealth_Excellent = 28\n",
    "    GenHealth_Fair = 29\n",
    "    GenHealth_Good = 30\n",
    "    GenHealth_Poor = 31\n",
    "    GenHealth_Very_Good = 32\n",
    "\n",
    "\n",
    "def getPrediction(input_data):\n",
    "    df = np.array(input_data).reshape(1,-1)\n",
    "    return round(model.predict_proba(df)[0][1] * 100, 2)\n",
    "\n",
    "\n",
    "def testPrediction(input_data):\n",
    "\n",
    "    print(\"-----------------------------------------------------------\")\n",
    "    print(\"                   PATIENT'S RECORD                        \")\n",
    "    print(\"-----------------------------------------------------------\")\n",
    "    for key, value in input_data.items():\n",
    "        print(f\"{key}: {value}\")\n",
    "    print(\"-----------------------------------------------------------\")\n",
    "    \n",
    "    upd_input_data = [0] * (heart_disease_df_dummy.columns.size - 1)\n",
    "\n",
    "    upd_input_data[Feature.BMI.value] = input_data['BMI']\n",
    "    upd_input_data[Feature.Sex.value] = 1 if input_data['Sex'].lower()  == 'male' else 0\n",
    "    upd_input_data[Feature.AlcoholDrinking.value] = 1 if input_data['Alcohol Drinking'].lower() == 'yes' else 0\n",
    "    upd_input_data[Feature.PhysicalActivity.value] = 1 if input_data['Physical Activity'].lower()  == 'yes' else 0\n",
    "    upd_input_data[Feature.Smoking.value] = 1 if input_data['Smoking'].lower()  == 'yes' else 0\n",
    "    upd_input_data[Feature.Stroke.value] = 1 if input_data['Stroke'].lower()  == 'yes' else 0\n",
    "    \n",
    "\n",
    "    race = input_data['Race'].lower()\n",
    "    if race in ['american indian', 'alaskan native']:\n",
    "        upd_input_data[Feature.Race_American_Indian.value] = 1\n",
    "    elif race == 'asian':\n",
    "        upd_input_data[Feature.Race_Asian.value] = 1\n",
    "    elif race == 'black':\n",
    "        upd_input_data[Feature.Race_Black.value] = 1\n",
    "    elif race == 'hispanic':\n",
    "        upd_input_data[Feature.Race_Hispanic.value] = 1\n",
    "    elif race == 'white':\n",
    "        upd_input_data[Feature.Race_White.value] = 1\n",
    "    elif race == 'other':\n",
    "        upd_input_data[Feature.Race_Other.value] = 1\n",
    "\n",
    "    \n",
    "    age = input_data['Age']\n",
    "    if 18 >= age <= 24:\n",
    "        upd_input_data[Feature.AgeCategory_18_24.value] = 1\n",
    "    elif 25 >= age <= 29:\n",
    "        upd_input_data[Feature.AgeCategory_25_29.value] = 1\n",
    "    elif 30 >= age <= 34:\n",
    "        upd_input_data[Feature.AgeCategory_30_34.value] = 1\n",
    "    elif 35 >= age <= 39:\n",
    "        upd_input_data[Feature.AgeCategory_35_39.value] = 1\n",
    "    elif 40 >= age <= 44:\n",
    "        upd_input_data[Feature.AgeCategory_40_44.value] = 1\n",
    "    elif 45 >= age <= 49:\n",
    "        upd_input_data[Feature.AgeCategory_45_49.value] = 1\n",
    "    elif 50 >= age <= 54:\n",
    "        upd_input_data[Feature.AgeCategory_50_54.value] = 1\n",
    "    elif 55 >= age <= 59:\n",
    "        upd_input_data[Feature.AgeCategory_55_59.value] = 1\n",
    "    elif 60 >= age <= 64:\n",
    "        upd_input_data[Feature.AgeCategory_60_64.value] = 1\n",
    "    elif 65 >= age <= 69:\n",
    "        upd_input_data[Feature.AgeCategory_65_69.value] = 1\n",
    "    elif 70 >= age <= 74:\n",
    "        upd_input_data[Feature.AgeCategory_70_74.value] = 1\n",
    "    elif 75 >= age <= 79:\n",
    "        upd_input_data[Feature.AgeCategory_75_79.value] = 1\n",
    "    elif age >= 80:\n",
    "        upd_input_data[Feature.AgeCategory_80_older.value] = 1\n",
    "\n",
    "\n",
    "    diabetic = input_data['Diabetic'].lower()\n",
    "    if diabetic  == 'yes':\n",
    "        upd_input_data[Feature.Diabetic.value] = 1\n",
    "    elif diabetic.endswith(\"borderline\"):\n",
    "        upd_input_data[Feature.DiabeticBorderline.value] = 1\n",
    "    elif diabetic.endswith(\"during pregnancy\"):\n",
    "        upd_input_data[Feature.DiabeticPregnancy.value] = 1\n",
    "    \n",
    "\n",
    "    general_health = input_data['General Health'].lower()\n",
    "    if general_health == 'poor':\n",
    "        upd_input_data[Feature.GenHealth_Poor.value] = 1\n",
    "    elif general_health == 'fair':\n",
    "        upd_input_data[Feature.GenHealth_Fair.value] = 1\n",
    "    elif general_health == 'good':\n",
    "        upd_input_data[Feature.GenHealth_Good.value] = 1\n",
    "    elif general_health == 'very good':\n",
    "        upd_input_data[Feature.GenHealth_Very_Good.value] = 1\n",
    "    elif general_health == 'excellent':\n",
    "        upd_input_data[Feature.GenHealth_Excellent.value] = 1\n",
    "\n",
    "\n",
    "    prediction = getPrediction(upd_input_data)\n",
    "    print(f\"\\nThe probability of {input_data['Name']} developing heart disease is {prediction}%\")\n"
   ]
  },
  {
   "attachments": {},
   "cell_type": "markdown",
   "metadata": {},
   "source": [
    "__Test data #1__"
   ]
  },
  {
   "cell_type": "code",
   "execution_count": 46,
   "metadata": {},
   "outputs": [
    {
     "name": "stdout",
     "output_type": "stream",
     "text": [
      "-----------------------------------------------------------\n",
      "                   PATIENT'S RECORD                        \n",
      "-----------------------------------------------------------\n",
      "Name: Gino Cruz\n",
      "Sex: Male\n",
      "Age: 25\n",
      "Race: Black\n",
      "BMI: 21.6\n",
      "Smoking: Yes\n",
      "Alcohol Drinking: No\n",
      "Stroke: No\n",
      "Diabetic: No\n",
      "Physical Activity: Yes\n",
      "General Health: Poor\n",
      "-----------------------------------------------------------\n",
      "\n",
      "The probability of Gino Cruz developing heart disease is 1.41%\n"
     ]
    }
   ],
   "source": [
    "input_data = {\n",
    "    'Name' : 'Gino Cruz',\n",
    "    'Sex' : 'Male',\n",
    "    'Age' : 25,\n",
    "    'Race' : 'Black',\n",
    "    'BMI' : 21.6,\n",
    "    'Smoking' : 'Yes',\n",
    "    'Alcohol Drinking' : 'No',\n",
    "    'Stroke' : 'No',\n",
    "    'Diabetic' : 'No',\n",
    "    'Physical Activity' : 'Yes',\n",
    "    'General Health' : 'Poor'\n",
    "}\n",
    "\n",
    "testPrediction(input_data)"
   ]
  },
  {
   "attachments": {},
   "cell_type": "markdown",
   "metadata": {},
   "source": [
    "__Test data #2__"
   ]
  },
  {
   "cell_type": "code",
   "execution_count": 47,
   "metadata": {},
   "outputs": [
    {
     "name": "stdout",
     "output_type": "stream",
     "text": [
      "-----------------------------------------------------------\n",
      "                   PATIENT'S RECORD                        \n",
      "-----------------------------------------------------------\n",
      "Name: Nicole Santos\n",
      "Sex: Female\n",
      "Age: 40\n",
      "Race: Asian\n",
      "BMI: 94.6\n",
      "Smoking: Yes\n",
      "Alcohol Drinking: No\n",
      "Stroke: No\n",
      "Diabetic: Yes, during pregnancy\n",
      "Physical Activity: Yes\n",
      "General Health: Poor\n",
      "-----------------------------------------------------------\n",
      "\n",
      "The probability of Nicole Santos developing heart disease is 0.44%\n"
     ]
    }
   ],
   "source": [
    "input_data = {\n",
    "    'Name' : 'Nicole Santos',\n",
    "    'Sex' : 'Female',\n",
    "    'Age' : 40,\n",
    "    'Race' : 'Asian',\n",
    "    'BMI' : 94.6,\n",
    "    'Smoking' : 'Yes',\n",
    "    'Alcohol Drinking' : 'No',\n",
    "    'Stroke' : 'No',\n",
    "    'Diabetic' : 'Yes, during pregnancy',\n",
    "    'Physical Activity' : 'Yes',\n",
    "    'General Health' : 'Poor'\n",
    "}\n",
    "\n",
    "testPrediction(input_data)"
   ]
  },
  {
   "attachments": {},
   "cell_type": "markdown",
   "metadata": {},
   "source": [
    "__Test data #3__"
   ]
  },
  {
   "cell_type": "code",
   "execution_count": 56,
   "metadata": {},
   "outputs": [
    {
     "name": "stdout",
     "output_type": "stream",
     "text": [
      "-----------------------------------------------------------\n",
      "                   PATIENT'S RECORD                        \n",
      "-----------------------------------------------------------\n",
      "Name: Alfred Gomez\n",
      "Sex: Male\n",
      "Age: 70\n",
      "Race: White\n",
      "BMI: 94.6\n",
      "Smoking: Yes\n",
      "Alcohol Drinking: Yes\n",
      "Stroke: No\n",
      "Diabetic: Yes\n",
      "Physical Activity: No\n",
      "General Health: Poor\n",
      "-----------------------------------------------------------\n",
      "\n",
      "The probability of Alfred Gomez developing heart disease is 65.18%\n"
     ]
    }
   ],
   "source": [
    "input_data = {\n",
    "    'Name' : 'Alfred Gomez',\n",
    "    'Sex' : 'Male',\n",
    "    'Age' : 70,\n",
    "    'Race' : 'White',\n",
    "    'BMI' : 94.6,\n",
    "    'Smoking' : 'Yes',\n",
    "    'Alcohol Drinking' : 'Yes',\n",
    "    'Stroke' : 'No',\n",
    "    'Diabetic' : 'Yes',\n",
    "    'Physical Activity' : 'No',\n",
    "    'General Health' : 'Poor'\n",
    "}\n",
    "\n",
    "testPrediction(input_data)"
   ]
  },
  {
   "attachments": {},
   "cell_type": "markdown",
   "metadata": {},
   "source": [
    "__Test data #4__"
   ]
  },
  {
   "cell_type": "code",
   "execution_count": 49,
   "metadata": {},
   "outputs": [
    {
     "name": "stdout",
     "output_type": "stream",
     "text": [
      "-----------------------------------------------------------\n",
      "                   PATIENT'S RECORD                        \n",
      "-----------------------------------------------------------\n",
      "Name: Erika de Leon\n",
      "Sex: Female\n",
      "Age: 80\n",
      "Race: Hispanic\n",
      "BMI: 94.6\n",
      "Smoking: Yes\n",
      "Alcohol Drinking: Yes\n",
      "Stroke: Yes\n",
      "Diabetic: Yes\n",
      "Physical Activity: No\n",
      "General Health: Poor\n",
      "-----------------------------------------------------------\n",
      "\n",
      "The probability of Erika de Leon developing heart disease is 31.2%\n"
     ]
    }
   ],
   "source": [
    "input_data = {\n",
    "    'Name' : 'Erika de Leon',\n",
    "    'Sex' : 'Female',\n",
    "    'Age' : 80,\n",
    "    'Race' : 'Hispanic',\n",
    "    'BMI' : 94.6,\n",
    "    'Smoking' : 'Yes',\n",
    "    'Alcohol Drinking' : 'Yes',\n",
    "    'Stroke' : 'Yes',\n",
    "    'Diabetic' : 'Yes',\n",
    "    'Physical Activity' : 'No',\n",
    "    'General Health' : 'Poor'\n",
    "}\n",
    "\n",
    "testPrediction(input_data)"
   ]
  },
  {
   "attachments": {},
   "cell_type": "markdown",
   "metadata": {},
   "source": [
    "### Comparing Evaluation Metrics (with and without using SMOTE)\n",
    "\n",
    "Generate a new model using the non-SMOTE dataset then assess the performance of this model."
   ]
  },
  {
   "cell_type": "code",
   "execution_count": 44,
   "metadata": {},
   "outputs": [
    {
     "name": "stdout",
     "output_type": "stream",
     "text": [
      "Classification Report for Test Dataset\n",
      "\n",
      "              precision    recall  f1-score   support\n",
      "\n",
      "           0       0.96      0.82      0.88     87730\n",
      "           1       0.23      0.59      0.33      8209\n",
      "\n",
      "    accuracy                           0.80     95939\n",
      "   macro avg       0.59      0.70      0.61     95939\n",
      "weighted avg       0.89      0.80      0.83     95939\n",
      "\n"
     ]
    },
    {
     "data": {
      "text/plain": [
       "Text(0.5, 1.0, 'Confusion Matrix')"
      ]
     },
     "execution_count": 44,
     "metadata": {},
     "output_type": "execute_result"
    },
    {
     "data": {
      "image/png": "[encoded data removed]",
      "text/plain": [
       "<Figure size 500x300 with 2 Axes>"
      ]
     },
     "metadata": {},
     "output_type": "display_data"
    }
   ],
   "source": [
    "X_train_ns, X_test_ns, y_train_ns, y_test_ns = train_test_split(X_features, y_target, test_size=0.3, random_state=0)\n",
    "\n",
    "model_ns = LogisticRegressionCV(solver='lbfgs')\n",
    "model_ns.fit(X_train_ns, y_train_ns)\n",
    "\n",
    "y_pred_test_ns = model.predict(X_test_ns)\n",
    "\n",
    "print(\"Classification Report for Test Dataset\\n\")\n",
    "print(classification_report(y_test_ns, y_pred_test_ns))\n",
    "\n",
    "cm_ns = confusion_matrix(y_test_ns, y_pred_test_ns)\n",
    "cm_matrix_n = pd.DataFrame(data=cm_ns, columns=['Actual Positive:1', 'Actual Negative:0'], index=['Predict Positive:1', 'Predict Negative:0'])\n",
    "sb.heatmap(cm_matrix_n, annot=True, fmt='d')\n",
    "plt.title('Confusion Matrix', fontsize=14, fontweight='bold')"
   ]
  },
  {
   "attachments": {},
   "cell_type": "markdown",
   "metadata": {},
   "source": [
    "Get the accuracy, precision, recall and auc scores for non-SMOTE model"
   ]
  },
  {
   "cell_type": "code",
   "execution_count": 53,
   "metadata": {},
   "outputs": [
    {
     "name": "stdout",
     "output_type": "stream",
     "text": [
      "Accuracy score: 0.8\n",
      "Precision score: 0.23\n",
      "Recall score: 0.59\n",
      "AUC score: 0.8\n"
     ]
    }
   ],
   "source": [
    "accuracy_score_ns = accuracy_score(y_test_ns, y_pred_test_ns)\n",
    "precision_score_ns = precision_score(y_test_ns, y_pred_test_ns)\n",
    "recall_score_ns = recall_score(y_test_ns, y_pred_test_ns)\n",
    "\n",
    "y_prob_test_ns = model.predict_proba(X_test_ns)[:,1]\n",
    "auc_ns = round(roc_auc_score(y_test_ns, y_prob_test_ns), 4)\n",
    "\n",
    "print(f'Accuracy score: {round(accuracy_score_ns, 2)}')\n",
    "print(f'Precision score: {round(precision_score_ns, 2)}')\n",
    "print(f'Recall score: {round(recall_score_ns, 2)}')\n",
    "print(f'AUC score: {round(auc_ns, 2)}')"
   ]
  },
  {
   "attachments": {},
   "cell_type": "markdown",
   "metadata": {},
   "source": [
    "Plot in the graph the accuracy, precision, recall and auc scores to compare prediction performance of SMOTE and non-SMOTE models"
   ]
  },
  {
   "cell_type": "code",
   "execution_count": 55,
   "metadata": {},
   "outputs": [
    {
     "data": {
      "image/png": "[encoded data removed]",
      "text/plain": [
       "<Figure size 500x300 with 1 Axes>"
      ]
     },
     "metadata": {},
     "output_type": "display_data"
    }
   ],
   "source": [
    "fig, (ax1) = plt.subplots(1)\n",
    "\n",
    "labels = ['Accuracy', 'Precision', 'Recall', 'AUC']\n",
    "ns_score = [accuracy_score_ns, precision_score_ns, recall_score_ns, auc_ns]\n",
    "s_score = [accuracy_score_s, precision_score_s, recall_score_s, auc]\n",
    "\n",
    "barWidth = 0.3\n",
    "x = np.arange(len(ns_score))\n",
    "\n",
    "ax1.bar(x - barWidth/2, ns_score, width=barWidth, label='without SMOTE')\n",
    "ax1.bar(x + barWidth/2, s_score, width=barWidth, label='with SMOTE')\n",
    "\n",
    "ax1.set_xticks(x, labels)\n",
    "ax1.set_ylabel('Score')\n",
    "ax1.set_ylim(0, 1)\n",
    "ax1.set_title('Evaluation Metrics', fontsize=14, fontweight='bold')\n",
    "ax1.legend()\n",
    "\n",
    "plt.show()"
   ]
  },
  {
   "attachments": {},
   "cell_type": "markdown",
   "metadata": {},
   "source": [
    "__Explanation:__\n",
    "The graph shows the non-SMOTE model has a considerably low precision score with 0.23, implying that only a small proportion of its positive predictions are accurate. This outcome can be attributed to the imbalanced distribution of the dataset among its classes, which severely skewed the model's precision. Additionally, all other non-SMOTE metrics display inferior scores. From this, it can be concluded that using SMOTE to balance the dataset has greatly improved the performance of our model."
   ]
  },
  {
   "attachments": {},
   "cell_type": "markdown",
   "metadata": {},
   "source": [
    "### Conclusions\n",
    "\n",
    "- The Logistic Regression algorithm has been used to train and test a model that can anticipate the probability of heart disease based on various key indicators. The model yields accuracy, precision, and recall scores of 0.83, 0.82 and 0.85, respectively, which are indicative of a sound classification performance.\n",
    "- Using SMOTE to generate synthetic data has substantially improved the precision of the model. This technique is essential if the distribution of data among different classes is highly skewed. However, further analysis and testing is still necessary. To enhance the accuracy and precision of the model, it is preferable to have a larger quantity of real data about people with heart disease, as well as a more diversed racial category.\n",
    "- The accuracy scores for the training and test sets are quite similar, with a score of 0.8341 for the training set and 0.8325 for the test set. Therefore, there is no evidence of overfitting.\n",
    "- With an ROC AUC value of 0.92, we can infer that our classifier performs very well in differentiate true positive against false positive cases of heart disease."
   ]
  },
  {
   "attachments": {},
   "cell_type": "markdown",
   "metadata": {},
   "source": [
    "### References\n",
    "\n",
    "1. https://www.kaggle.com/datasets/kamilpytlak/personal-key-indicators-of-heart-disease\n",
    "2. https://medium.com/geekculture/how-to-deal-with-class-imbalances-in-python-960908fe0425\n",
    "3. https://medium.com/analytics-vidhya/how-to-improve-logistic-regression-b956e72f4492\n",
    "4. https://medium.com/analytics-vidhya/what-is-a-confusion-matrix-d1c0f8feda5\n",
    "5. https://towardsdatascience.com/understanding-confusion-matrix-a9ad42dcfd62\n",
    "6. https://neptune.ai/blog/f1-score-accuracy-roc-auc-pr-auc"
   ]
  },
  {
   "attachments": {},
   "cell_type": "markdown",
   "metadata": {},
   "source": [
    "> AML-2203 Winter 2023 Mid-Term Project (Group 7)"
   ]
  }
 ],
 "metadata": {
  "kernelspec": {
   "display_name": "Python 3",
   "language": "python",
   "name": "python3"
  },
  "language_info": {
   "codemirror_mode": {
    "name": "ipython",
    "version": 3
   },
   "file_extension": ".py",
   "mimetype": "text/x-python",
   "name": "python",
   "nbconvert_exporter": "python",
   "pygments_lexer": "ipython3",
   "version": "3.10.7"
  },
  "orig_nbformat": 4,
  "vscode": {
   "interpreter": {
    "hash": "006ceec57082682d3b909e056014cfb3f67146c2ee1293d561029ad71ca64256"
   }
  }
 },
 "nbformat": 4,
 "nbformat_minor": 2
}
